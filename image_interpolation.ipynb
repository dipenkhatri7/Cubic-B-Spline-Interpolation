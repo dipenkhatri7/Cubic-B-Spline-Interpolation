{
 "cells": [
  {
   "cell_type": "code",
   "execution_count": 5,
   "id": "d64c44e3",
   "metadata": {},
   "outputs": [],
   "source": [
    "import os\n",
    "import cv2\n",
    "from scipy import interpolate\n",
    "import numpy as np"
   ]
  },
  {
   "cell_type": "code",
   "execution_count": null,
   "id": "efac2d9a",
   "metadata": {},
   "outputs": [],
   "source": [
    "# Set up the paths for input and output images\n",
    "BASE_PATH = os.path.abspath('.')\n",
    "DATA_PATH = os.path.join(BASE_PATH, 'data')\n",
    "INPUT_PATH = os.path.join(BASE_PATH, 'images/input')\n",
    "OUTPUT_PATH = os.path.join(BASE_PATH, 'images/output')\n",
    "\n",
    "# Get the name of the input image from user input\n",
    "image_name = input(\"Enter the name of the image: \")\n",
    "\n",
    "# Construct the paths for input and output images\n",
    "INPUT_IMAGE_PATH = os.path.join(INPUT_PATH, image_name)\n",
    "output_name = 'output_' + image_name\n",
    "OUTPUT_IMAGE_PATH = os.path.join(OUTPUT_PATH, output_name)"
   ]
  },
  {
   "cell_type": "code",
   "execution_count": null,
   "id": "a94958d9",
   "metadata": {},
   "outputs": [],
   "source": [
    "# Load the input image\n",
    "input_image = cv2.imread(INPUT_IMAGE_PATH)\n",
    "\n",
    "# Upsample the image using cubic B-spline interpolation\n",
    "scale = 5\n",
    "height, width = input_image.shape[:2]\n",
    "new_height, new_width = scale * height, scale * width\n",
    "fx, fy = float(new_width) / width, float(new_height) / height\n",
    "new_image = cv2.resize(input_image, (new_width, new_height), interpolation=cv2.INTER_CUBIC)\n",
    "\n",
    "# Split the image into RGB channels\n",
    "r, g, b = cv2.split(new_image)\n",
    "\n",
    "# Perform cubic B-spline interpolation on each channel\n",
    "interp_r = interpolate.interp2d(np.arange(0, new_width), np.arange(0, new_height), r, kind='cubic')\n",
    "interp_g = interpolate.interp2d(np.arange(0, new_width), np.arange(0, new_height), g, kind='cubic')\n",
    "interp_b = interpolate.interp2d(np.arange(0, new_width), np.arange(0, new_height), b, kind='cubic')\n",
    "\n",
    "# Create a new image by combining the interpolated RGB channels\n",
    "output_image = cv2.merge((\n",
    "    interp_r(np.arange(0, new_width), np.arange(0, new_height)),\n",
    "    interp_g(np.arange(0, new_width), np.arange(0, new_height)),\n",
    "    interp_b(np.arange(0, new_width), np.arange(0, new_height)),\n",
    "))\n",
    "\n",
    "# Convert the output image to 8-bit depth\n",
    "output_image = np.clip(output_image, 0, 255).astype('uint8')\n",
    "\n",
    "# Save the output image\n",
    "cv2.imwrite(OUTPUT_IMAGE_PATH, output_image)"
   ]
  },
  {
   "cell_type": "code",
   "execution_count": null,
   "id": "e547579e",
   "metadata": {},
   "outputs": [],
   "source": []
  }
 ],
 "metadata": {
  "kernelspec": {
   "display_name": "cubic_bspline_interpolation",
   "language": "python",
   "name": "cubic_bspline_interpolation"
  },
  "language_info": {
   "codemirror_mode": {
    "name": "ipython",
    "version": 3
   },
   "file_extension": ".py",
   "mimetype": "text/x-python",
   "name": "python",
   "nbconvert_exporter": "python",
   "pygments_lexer": "ipython3",
   "version": "3.11.3"
  }
 },
 "nbformat": 4,
 "nbformat_minor": 5
}
