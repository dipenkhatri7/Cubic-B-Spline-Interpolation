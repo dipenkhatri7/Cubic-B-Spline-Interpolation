{
 "cells": [
  {
   "cell_type": "code",
   "execution_count": 32,
   "id": "d64c44e3",
   "metadata": {},
   "outputs": [],
   "source": [
    "import os\n",
    "import cv2\n",
    "from scipy import interpolate\n",
    "import numpy as np"
   ]
  },
  {
   "cell_type": "code",
   "execution_count": 33,
   "id": "efac2d9a",
   "metadata": {},
   "outputs": [
    {
     "name": "stdout",
     "output_type": "stream",
     "text": [
      "Enter the name of the image: 348360429_927188741886239_3086415653393245220_n.png\n"
     ]
    }
   ],
   "source": [
    "# Set up the paths for input and output images\n",
    "BASE_PATH = os.path.abspath('.')\n",
    "DATA_PATH = os.path.join(BASE_PATH, 'data')\n",
    "INPUT_PATH = os.path.join(BASE_PATH, 'images/input')\n",
    "OUTPUT_PATH = os.path.join(BASE_PATH, 'images/output')\n",
    "\n",
    "# Get the name of the input image from user input\n",
    "image_name = input(\"Enter the name of the image: \")\n",
    "\n",
    "# Construct the paths for input and output images\n",
    "INPUT_IMAGE_PATH = os.path.join(INPUT_PATH, image_name)\n",
    "output_name = 'output_' + image_name\n",
    "OUTPUT_IMAGE_PATH = os.path.join(OUTPUT_PATH, output_name)"
   ]
  },
  {
   "cell_type": "code",
   "execution_count": 40,
   "id": "a94958d9",
   "metadata": {},
   "outputs": [
    {
     "name": "stderr",
     "output_type": "stream",
     "text": [
      "/var/folders/_k/c633s0_x4cd_jswm3fyfn6yw0000gn/T/ipykernel_17631/4074687183.py:15: DeprecationWarning: `interp2d` is deprecated!\n",
      "`interp2d` is deprecated in SciPy 1.10 and will be removed in SciPy 1.12.0.\n",
      "\n",
      "For legacy code, nearly bug-for-bug compatible replacements are\n",
      "`RectBivariateSpline` on regular grids, and `bisplrep`/`bisplev` for\n",
      "scattered 2D data.\n",
      "\n",
      "In new code, for regular grids use `RegularGridInterpolator` instead.\n",
      "For scattered data, prefer `LinearNDInterpolator` or\n",
      "`CloughTocher2DInterpolator`.\n",
      "\n",
      "For more details see\n",
      "`https://gist.github.com/ev-br/8544371b40f414b7eaf3fe6217209bff`\n",
      "\n",
      "  interp_r = interpolate.interp2d(np.arange(0, new_width), np.arange(0, new_height), r, kind='cubic')\n",
      "/var/folders/_k/c633s0_x4cd_jswm3fyfn6yw0000gn/T/ipykernel_17631/4074687183.py:16: DeprecationWarning: `interp2d` is deprecated!\n",
      "`interp2d` is deprecated in SciPy 1.10 and will be removed in SciPy 1.12.0.\n",
      "\n",
      "For legacy code, nearly bug-for-bug compatible replacements are\n",
      "`RectBivariateSpline` on regular grids, and `bisplrep`/`bisplev` for\n",
      "scattered 2D data.\n",
      "\n",
      "In new code, for regular grids use `RegularGridInterpolator` instead.\n",
      "For scattered data, prefer `LinearNDInterpolator` or\n",
      "`CloughTocher2DInterpolator`.\n",
      "\n",
      "For more details see\n",
      "`https://gist.github.com/ev-br/8544371b40f414b7eaf3fe6217209bff`\n",
      "\n",
      "  interp_g = interpolate.interp2d(np.arange(0, new_width), np.arange(0, new_height), g, kind='cubic')\n",
      "/var/folders/_k/c633s0_x4cd_jswm3fyfn6yw0000gn/T/ipykernel_17631/4074687183.py:17: DeprecationWarning: `interp2d` is deprecated!\n",
      "`interp2d` is deprecated in SciPy 1.10 and will be removed in SciPy 1.12.0.\n",
      "\n",
      "For legacy code, nearly bug-for-bug compatible replacements are\n",
      "`RectBivariateSpline` on regular grids, and `bisplrep`/`bisplev` for\n",
      "scattered 2D data.\n",
      "\n",
      "In new code, for regular grids use `RegularGridInterpolator` instead.\n",
      "For scattered data, prefer `LinearNDInterpolator` or\n",
      "`CloughTocher2DInterpolator`.\n",
      "\n",
      "For more details see\n",
      "`https://gist.github.com/ev-br/8544371b40f414b7eaf3fe6217209bff`\n",
      "\n",
      "  interp_b = interpolate.interp2d(np.arange(0, new_width), np.arange(0, new_height), b, kind='cubic')\n",
      "/var/folders/_k/c633s0_x4cd_jswm3fyfn6yw0000gn/T/ipykernel_17631/4074687183.py:21: DeprecationWarning:         `interp2d` is deprecated!\n",
      "        `interp2d` is deprecated in SciPy 1.10 and will be removed in SciPy 1.12.0.\n",
      "\n",
      "        For legacy code, nearly bug-for-bug compatible replacements are\n",
      "        `RectBivariateSpline` on regular grids, and `bisplrep`/`bisplev` for\n",
      "        scattered 2D data.\n",
      "\n",
      "        In new code, for regular grids use `RegularGridInterpolator` instead.\n",
      "        For scattered data, prefer `LinearNDInterpolator` or\n",
      "        `CloughTocher2DInterpolator`.\n",
      "\n",
      "        For more details see\n",
      "        `https://gist.github.com/ev-br/8544371b40f414b7eaf3fe6217209bff`\n",
      "\n",
      "  interp_r(np.arange(0, new_width), np.arange(0, new_height)),\n",
      "/var/folders/_k/c633s0_x4cd_jswm3fyfn6yw0000gn/T/ipykernel_17631/4074687183.py:22: DeprecationWarning:         `interp2d` is deprecated!\n",
      "        `interp2d` is deprecated in SciPy 1.10 and will be removed in SciPy 1.12.0.\n",
      "\n",
      "        For legacy code, nearly bug-for-bug compatible replacements are\n",
      "        `RectBivariateSpline` on regular grids, and `bisplrep`/`bisplev` for\n",
      "        scattered 2D data.\n",
      "\n",
      "        In new code, for regular grids use `RegularGridInterpolator` instead.\n",
      "        For scattered data, prefer `LinearNDInterpolator` or\n",
      "        `CloughTocher2DInterpolator`.\n",
      "\n",
      "        For more details see\n",
      "        `https://gist.github.com/ev-br/8544371b40f414b7eaf3fe6217209bff`\n",
      "\n",
      "  interp_g(np.arange(0, new_width), np.arange(0, new_height)),\n",
      "/var/folders/_k/c633s0_x4cd_jswm3fyfn6yw0000gn/T/ipykernel_17631/4074687183.py:23: DeprecationWarning:         `interp2d` is deprecated!\n",
      "        `interp2d` is deprecated in SciPy 1.10 and will be removed in SciPy 1.12.0.\n",
      "\n",
      "        For legacy code, nearly bug-for-bug compatible replacements are\n",
      "        `RectBivariateSpline` on regular grids, and `bisplrep`/`bisplev` for\n",
      "        scattered 2D data.\n",
      "\n",
      "        In new code, for regular grids use `RegularGridInterpolator` instead.\n",
      "        For scattered data, prefer `LinearNDInterpolator` or\n",
      "        `CloughTocher2DInterpolator`.\n",
      "\n",
      "        For more details see\n",
      "        `https://gist.github.com/ev-br/8544371b40f414b7eaf3fe6217209bff`\n",
      "\n",
      "  interp_b(np.arange(0, new_width), np.arange(0, new_height)),\n"
     ]
    },
    {
     "data": {
      "text/plain": [
       "True"
      ]
     },
     "execution_count": 40,
     "metadata": {},
     "output_type": "execute_result"
    }
   ],
   "source": [
    "# Load the input image\n",
    "input_image = cv2.imread(INPUT_IMAGE_PATH)\n",
    "\n",
    "# Upsample the image using cubic B-spline interpolation\n",
    "scale = 2\n",
    "height, width = input_image.shape[:2]\n",
    "new_height, new_width = scale * height, scale * width\n",
    "fx, fy = float(new_width) / width, float(new_height) / height\n",
    "new_image = cv2.resize(input_image, (new_width, new_height), interpolation=cv2.INTER_CUBIC)\n",
    "\n",
    "# Split the image into RGB channels\n",
    "r, g, b = cv2.split(new_image)\n",
    "\n",
    "# Perform cubic B-spline interpolation on each channel\n",
    "interp_r = interpolate.interp2d(np.arange(0, new_width), np.arange(0, new_height), r, kind='cubic')\n",
    "interp_g = interpolate.interp2d(np.arange(0, new_width), np.arange(0, new_height), g, kind='cubic')\n",
    "interp_b = interpolate.interp2d(np.arange(0, new_width), np.arange(0, new_height), b, kind='cubic')\n",
    "\n",
    "# Create a new image by combining the interpolated RGB channels\n",
    "output_image = cv2.merge((\n",
    "    interp_r(np.arange(0, new_width), np.arange(0, new_height)),\n",
    "    interp_g(np.arange(0, new_width), np.arange(0, new_height)),\n",
    "    interp_b(np.arange(0, new_width), np.arange(0, new_height)),\n",
    "))\n",
    "\n",
    "# Convert the output image to 8-bit depth\n",
    "output_image = np.clip(output_image, 0, 255).astype('uint8')\n",
    "\n",
    "# Save the output image\n",
    "cv2.imwrite(OUTPUT_IMAGE_PATH, output_image)"
   ]
  }
 ],
 "metadata": {
  "kernelspec": {
   "display_name": "cubic_bspline_interpolation",
   "language": "python",
   "name": "cubic_bspline_interpolation"
  },
  "language_info": {
   "codemirror_mode": {
    "name": "ipython",
    "version": 3
   },
   "file_extension": ".py",
   "mimetype": "text/x-python",
   "name": "python",
   "nbconvert_exporter": "python",
   "pygments_lexer": "ipython3",
   "version": "3.11.3"
  }
 },
 "nbformat": 4,
 "nbformat_minor": 5
}
